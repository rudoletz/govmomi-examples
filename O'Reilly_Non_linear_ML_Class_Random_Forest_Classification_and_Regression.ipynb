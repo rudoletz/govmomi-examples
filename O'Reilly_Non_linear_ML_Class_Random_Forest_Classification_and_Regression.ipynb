{
  "nbformat": 4,
  "nbformat_minor": 0,
  "metadata": {
    "colab": {
      "name": "O'Reilly Non-linear ML Class- Random Forest Classification and Regression",
      "provenance": [],
      "include_colab_link": true
    },
    "kernelspec": {
      "name": "python3",
      "display_name": "Python 3"
    }
  },
  "cells": [
    {
      "cell_type": "markdown",
      "metadata": {
        "id": "view-in-github",
        "colab_type": "text"
      },
      "source": [
        "<a href=\"https://colab.research.google.com/github/rudoletz/govmomi-examples/blob/master/O'Reilly_Non_linear_ML_Class_Random_Forest_Classification_and_Regression.ipynb\" target=\"_parent\"><img src=\"https://colab.research.google.com/assets/colab-badge.svg\" alt=\"Open In Colab\"/></a>"
      ]
    },
    {
      "cell_type": "markdown",
      "metadata": {
        "id": "u0pr5N-DfGQe"
      },
      "source": [
        "# Import Market Data"
      ]
    },
    {
      "cell_type": "code",
      "metadata": {
        "id": "pxgRHy12PJfK"
      },
      "source": [
        "#Import Python Libraries\n",
        "import numpy as np\n",
        "import pandas as pd\n",
        "from datetime import datetime\n",
        "\n",
        "import pandas_datareader.data as pdr\n",
        "import fix_yahoo_finance as yf\n",
        "yf.pdr_override()\n",
        "\n",
        "import matplotlib.pyplot as plt\n",
        "plt.style.use('seaborn')"
      ],
      "execution_count": null,
      "outputs": []
    },
    {
      "cell_type": "code",
      "metadata": {
        "id": "eGcDaP4vQjuX"
      },
      "source": [
        "#Import data\n",
        "start = datetime(2020, 1, 1)\n",
        "end = datetime(2020, 8, 4)\n",
        "\n",
        "stock = pdr.get_data_yahoo('AAPL', start, end) #Apple Inc. stock\n",
        "market = pdr.get_data_yahoo('SPY', start, end) #S&P 500 index\n",
        "vix = pdr.get_data_yahoo('^VIX', start, end)   #Volatility index\n",
        "dxy = pdr.get_data_yahoo('UUP', start, end)    #Dollar index\n",
        "junk = pdr.get_data_yahoo('JNK', start, end)   #Junk bond index"
      ],
      "execution_count": null,
      "outputs": []
    },
    {
      "cell_type": "code",
      "metadata": {
        "id": "EX2JBnMfXHTi",
        "colab": {
          "base_uri": "https://localhost:8080/",
          "height": 235
        },
        "outputId": "5feb0a08-2694-490c-fc90-37cda0241e5d"
      },
      "source": [
        "#Create target dataframe\n",
        "target = pd.DataFrame()\n",
        "#Use adjusted closing prices instead of closing prices to adjust for corporate actions such as dividends, splits and mergers\n",
        "target['return'] = (stock['Open']-stock['Adj Close'].shift(1))/stock['Adj Close'].shift(1) #Returns based on buying on the close the day before and selling on the open the day after\n",
        "target = target.dropna() #get rid of the NaNs\n",
        "target['direction'] = np.where(target['return'] > 0, 1, -1) #Overnight direction of the stock\n",
        "target.head()"
      ],
      "execution_count": null,
      "outputs": [
        {
          "output_type": "execute_result",
          "data": {
            "text/html": [
              "<div>\n",
              "<style scoped>\n",
              "    .dataframe tbody tr th:only-of-type {\n",
              "        vertical-align: middle;\n",
              "    }\n",
              "\n",
              "    .dataframe tbody tr th {\n",
              "        vertical-align: top;\n",
              "    }\n",
              "\n",
              "    .dataframe thead th {\n",
              "        text-align: right;\n",
              "    }\n",
              "</style>\n",
              "<table border=\"1\" class=\"dataframe\">\n",
              "  <thead>\n",
              "    <tr style=\"text-align: right;\">\n",
              "      <th></th>\n",
              "      <th>return</th>\n",
              "      <th>direction</th>\n",
              "    </tr>\n",
              "    <tr>\n",
              "      <th>Date</th>\n",
              "      <th></th>\n",
              "      <th></th>\n",
              "    </tr>\n",
              "  </thead>\n",
              "  <tbody>\n",
              "    <tr>\n",
              "      <th>2020-01-03</th>\n",
              "      <td>-0.005622</td>\n",
              "      <td>-1</td>\n",
              "    </tr>\n",
              "    <tr>\n",
              "      <th>2020-01-06</th>\n",
              "      <td>-0.007214</td>\n",
              "      <td>-1</td>\n",
              "    </tr>\n",
              "    <tr>\n",
              "      <th>2020-01-07</th>\n",
              "      <td>0.005221</td>\n",
              "      <td>1</td>\n",
              "    </tr>\n",
              "    <tr>\n",
              "      <th>2020-01-08</th>\n",
              "      <td>0.000944</td>\n",
              "      <td>1</td>\n",
              "    </tr>\n",
              "    <tr>\n",
              "      <th>2020-01-09</th>\n",
              "      <td>0.018513</td>\n",
              "      <td>1</td>\n",
              "    </tr>\n",
              "  </tbody>\n",
              "</table>\n",
              "</div>"
            ],
            "text/plain": [
              "              return  direction\n",
              "Date                           \n",
              "2020-01-03 -0.005622         -1\n",
              "2020-01-06 -0.007214         -1\n",
              "2020-01-07  0.005221          1\n",
              "2020-01-08  0.000944          1\n",
              "2020-01-09  0.018513          1"
            ]
          },
          "metadata": {
            "tags": []
          },
          "execution_count": 4
        }
      ]
    },
    {
      "cell_type": "code",
      "metadata": {
        "id": "4PUC0AmibGxp",
        "colab": {
          "base_uri": "https://localhost:8080/",
          "height": 235
        },
        "outputId": "be6db457-d84d-4c32-cdd9-be8d01955187"
      },
      "source": [
        "#Create features dataframe based on closing prices\n",
        "features = pd.DataFrame()\n",
        "features['market'] = market['Adj Close'].pct_change(1)*100\n",
        "#VIX is volatility index and is measured in annualizzed percentage terms\n",
        "features['vix'] = vix['Adj Close'].diff()\n",
        "features['dxy'] = dxy['Adj Close'].pct_change(1)*100\n",
        "features['junk'] = junk['Adj Close'].pct_change(1)*100\n",
        "features = features.dropna()\n",
        "features.tail()"
      ],
      "execution_count": null,
      "outputs": [
        {
          "output_type": "execute_result",
          "data": {
            "text/html": [
              "<div>\n",
              "<style scoped>\n",
              "    .dataframe tbody tr th:only-of-type {\n",
              "        vertical-align: middle;\n",
              "    }\n",
              "\n",
              "    .dataframe tbody tr th {\n",
              "        vertical-align: top;\n",
              "    }\n",
              "\n",
              "    .dataframe thead th {\n",
              "        text-align: right;\n",
              "    }\n",
              "</style>\n",
              "<table border=\"1\" class=\"dataframe\">\n",
              "  <thead>\n",
              "    <tr style=\"text-align: right;\">\n",
              "      <th></th>\n",
              "      <th>market</th>\n",
              "      <th>vix</th>\n",
              "      <th>dxy</th>\n",
              "      <th>junk</th>\n",
              "    </tr>\n",
              "    <tr>\n",
              "      <th>Date</th>\n",
              "      <th></th>\n",
              "      <th></th>\n",
              "      <th></th>\n",
              "      <th></th>\n",
              "    </tr>\n",
              "  </thead>\n",
              "  <tbody>\n",
              "    <tr>\n",
              "      <th>2020-07-28</th>\n",
              "      <td>-0.634239</td>\n",
              "      <td>0.700001</td>\n",
              "      <td>0.158044</td>\n",
              "      <td>-0.313307</td>\n",
              "    </tr>\n",
              "    <tr>\n",
              "      <th>2020-07-29</th>\n",
              "      <td>1.229873</td>\n",
              "      <td>-1.340001</td>\n",
              "      <td>-0.473373</td>\n",
              "      <td>0.599996</td>\n",
              "    </tr>\n",
              "    <tr>\n",
              "      <th>2020-07-30</th>\n",
              "      <td>-0.356793</td>\n",
              "      <td>0.660000</td>\n",
              "      <td>-0.396358</td>\n",
              "      <td>0.302950</td>\n",
              "    </tr>\n",
              "    <tr>\n",
              "      <th>2020-07-31</th>\n",
              "      <td>0.790220</td>\n",
              "      <td>-0.300001</td>\n",
              "      <td>0.596904</td>\n",
              "      <td>0.141572</td>\n",
              "    </tr>\n",
              "    <tr>\n",
              "      <th>2020-08-03</th>\n",
              "      <td>0.695216</td>\n",
              "      <td>-0.179998</td>\n",
              "      <td>0.000000</td>\n",
              "      <td>0.014206</td>\n",
              "    </tr>\n",
              "  </tbody>\n",
              "</table>\n",
              "</div>"
            ],
            "text/plain": [
              "              market       vix       dxy      junk\n",
              "Date                                              \n",
              "2020-07-28 -0.634239  0.700001  0.158044 -0.313307\n",
              "2020-07-29  1.229873 -1.340001 -0.473373  0.599996\n",
              "2020-07-30 -0.356793  0.660000 -0.396358  0.302950\n",
              "2020-07-31  0.790220 -0.300001  0.596904  0.141572\n",
              "2020-08-03  0.695216 -0.179998  0.000000  0.014206"
            ]
          },
          "metadata": {
            "tags": []
          },
          "execution_count": 5
        }
      ]
    },
    {
      "cell_type": "code",
      "metadata": {
        "id": "XKGxoOWX-uBp",
        "colab": {
          "base_uri": "https://localhost:8080/",
          "height": 235
        },
        "outputId": "a878ac5e-427a-4b8c-b3fa-f31e08038188"
      },
      "source": [
        "lastknown = features[-1:] #Values of features from the last trading session\n",
        "features = features[:-1] #Subtracts last row from the features matrix so that it aligns with labels vector\n",
        "features.tail()"
      ],
      "execution_count": null,
      "outputs": [
        {
          "output_type": "execute_result",
          "data": {
            "text/html": [
              "<div>\n",
              "<style scoped>\n",
              "    .dataframe tbody tr th:only-of-type {\n",
              "        vertical-align: middle;\n",
              "    }\n",
              "\n",
              "    .dataframe tbody tr th {\n",
              "        vertical-align: top;\n",
              "    }\n",
              "\n",
              "    .dataframe thead th {\n",
              "        text-align: right;\n",
              "    }\n",
              "</style>\n",
              "<table border=\"1\" class=\"dataframe\">\n",
              "  <thead>\n",
              "    <tr style=\"text-align: right;\">\n",
              "      <th></th>\n",
              "      <th>market</th>\n",
              "      <th>vix</th>\n",
              "      <th>dxy</th>\n",
              "      <th>junk</th>\n",
              "    </tr>\n",
              "    <tr>\n",
              "      <th>Date</th>\n",
              "      <th></th>\n",
              "      <th></th>\n",
              "      <th></th>\n",
              "      <th></th>\n",
              "    </tr>\n",
              "  </thead>\n",
              "  <tbody>\n",
              "    <tr>\n",
              "      <th>2020-07-27</th>\n",
              "      <td>0.729243</td>\n",
              "      <td>-1.100000</td>\n",
              "      <td>-0.745102</td>\n",
              "      <td>0.257001</td>\n",
              "    </tr>\n",
              "    <tr>\n",
              "      <th>2020-07-28</th>\n",
              "      <td>-0.634239</td>\n",
              "      <td>0.700001</td>\n",
              "      <td>0.158044</td>\n",
              "      <td>-0.313307</td>\n",
              "    </tr>\n",
              "    <tr>\n",
              "      <th>2020-07-29</th>\n",
              "      <td>1.229873</td>\n",
              "      <td>-1.340001</td>\n",
              "      <td>-0.473373</td>\n",
              "      <td>0.599996</td>\n",
              "    </tr>\n",
              "    <tr>\n",
              "      <th>2020-07-30</th>\n",
              "      <td>-0.356793</td>\n",
              "      <td>0.660000</td>\n",
              "      <td>-0.396358</td>\n",
              "      <td>0.302950</td>\n",
              "    </tr>\n",
              "    <tr>\n",
              "      <th>2020-07-31</th>\n",
              "      <td>0.790220</td>\n",
              "      <td>-0.300001</td>\n",
              "      <td>0.596904</td>\n",
              "      <td>0.141572</td>\n",
              "    </tr>\n",
              "  </tbody>\n",
              "</table>\n",
              "</div>"
            ],
            "text/plain": [
              "              market       vix       dxy      junk\n",
              "Date                                              \n",
              "2020-07-27  0.729243 -1.100000 -0.745102  0.257001\n",
              "2020-07-28 -0.634239  0.700001  0.158044 -0.313307\n",
              "2020-07-29  1.229873 -1.340001 -0.473373  0.599996\n",
              "2020-07-30 -0.356793  0.660000 -0.396358  0.302950\n",
              "2020-07-31  0.790220 -0.300001  0.596904  0.141572"
            ]
          },
          "metadata": {
            "tags": []
          },
          "execution_count": 6
        }
      ]
    },
    {
      "cell_type": "markdown",
      "metadata": {
        "id": "nd41ArfsfQ3G"
      },
      "source": [
        "#Random Forest classification for overnight direction"
      ]
    },
    {
      "cell_type": "code",
      "metadata": {
        "id": "3eMzdjb7nOt7",
        "colab": {
          "base_uri": "https://localhost:8080/",
          "height": 235
        },
        "outputId": "ca087770-5e10-4b7d-aa66-94b26b3b0697"
      },
      "source": [
        "#Get rid of return column for classifiers\n",
        "targetclass = target.drop(axis=1, columns='return')\n",
        "targetclass = targetclass[1:] #Removes the first row of labels since we are correlating today's features with tomorrow's opening values\n",
        "targetclass.head()                                                                        "
      ],
      "execution_count": null,
      "outputs": [
        {
          "output_type": "execute_result",
          "data": {
            "text/html": [
              "<div>\n",
              "<style scoped>\n",
              "    .dataframe tbody tr th:only-of-type {\n",
              "        vertical-align: middle;\n",
              "    }\n",
              "\n",
              "    .dataframe tbody tr th {\n",
              "        vertical-align: top;\n",
              "    }\n",
              "\n",
              "    .dataframe thead th {\n",
              "        text-align: right;\n",
              "    }\n",
              "</style>\n",
              "<table border=\"1\" class=\"dataframe\">\n",
              "  <thead>\n",
              "    <tr style=\"text-align: right;\">\n",
              "      <th></th>\n",
              "      <th>direction</th>\n",
              "    </tr>\n",
              "    <tr>\n",
              "      <th>Date</th>\n",
              "      <th></th>\n",
              "    </tr>\n",
              "  </thead>\n",
              "  <tbody>\n",
              "    <tr>\n",
              "      <th>2020-01-06</th>\n",
              "      <td>-1</td>\n",
              "    </tr>\n",
              "    <tr>\n",
              "      <th>2020-01-07</th>\n",
              "      <td>1</td>\n",
              "    </tr>\n",
              "    <tr>\n",
              "      <th>2020-01-08</th>\n",
              "      <td>1</td>\n",
              "    </tr>\n",
              "    <tr>\n",
              "      <th>2020-01-09</th>\n",
              "      <td>1</td>\n",
              "    </tr>\n",
              "    <tr>\n",
              "      <th>2020-01-10</th>\n",
              "      <td>1</td>\n",
              "    </tr>\n",
              "  </tbody>\n",
              "</table>\n",
              "</div>"
            ],
            "text/plain": [
              "            direction\n",
              "Date                 \n",
              "2020-01-06         -1\n",
              "2020-01-07          1\n",
              "2020-01-08          1\n",
              "2020-01-09          1\n",
              "2020-01-10          1"
            ]
          },
          "metadata": {
            "tags": []
          },
          "execution_count": 7
        }
      ]
    },
    {
      "cell_type": "code",
      "metadata": {
        "id": "94UteHjeoSeG",
        "colab": {
          "base_uri": "https://localhost:8080/",
          "height": 68
        },
        "outputId": "742b79d5-b812-4bee-b0b0-6b8ebad8925d"
      },
      "source": [
        "#Train and test Random Forest classifier using Gini impurity performance metric\n",
        "from sklearn.ensemble import RandomForestClassifier\n",
        "from sklearn.model_selection import train_test_split\n",
        "\n",
        "classifier = RandomForestClassifier(random_state=1, oob_score=True) #Enables using out-of-bag sample set for validation\n",
        "targetclass = np.ravel(targetclass) #Need to covert column vector into a 1-d Numpy array \n",
        "features_train, features_test, targetclass_train, targetclass_test = train_test_split(features, targetclass, test_size = 0.25, random_state=0)\n",
        "classifier.fit(features_train, targetclass_train)\n",
        "print(\"Training score:\", classifier.score(features_train, targetclass_train))\n",
        "print(\"Out-of-bag score:\", classifier.oob_score_)\n",
        "print(\"Testing score:\", classifier.score(features_test, targetclass_test))"
      ],
      "execution_count": null,
      "outputs": [
        {
          "output_type": "stream",
          "text": [
            "Training score: 1.0\n",
            "Out-of-bag score: 0.47706422018348627\n",
            "Testing score: 0.6216216216216216\n"
          ],
          "name": "stdout"
        }
      ]
    },
    {
      "cell_type": "code",
      "metadata": {
        "id": "2i8SMr8XbduG",
        "colab": {
          "base_uri": "https://localhost:8080/",
          "height": 68
        },
        "outputId": "a45214df-43a1-4eac-f950-797f0c666bc7"
      },
      "source": [
        "#Train and test classifier using entropy performance metric with regularizing hyperparameters\n",
        "classifier_entropy = RandomForestClassifier(criterion='entropy', random_state=1, oob_score=True,n_estimators=100, max_depth=5, min_samples_leaf=20, min_samples_split=30) #Maximum depth of tree is used to prevent overfitting of test data \n",
        "features_train, features_test, targetclass_train, targetclass_test = train_test_split(features, targetclass, test_size = 0.25, random_state=0)\n",
        "classifier_entropy.fit(features_train, targetclass_train)\n",
        "print(\"Training score:\", classifier_entropy.score(features_train, targetclass_train))\n",
        "print(\"Out-of-bag score:\", classifier_entropy.oob_score_)\n",
        "print(\"Testing score:\", classifier_entropy.score(features_test, targetclass_test))"
      ],
      "execution_count": null,
      "outputs": [
        {
          "output_type": "stream",
          "text": [
            "Training score: 0.5963302752293578\n",
            "Out-of-bag score: 0.5963302752293578\n",
            "Testing score: 0.6216216216216216\n"
          ],
          "name": "stdout"
        }
      ]
    },
    {
      "cell_type": "code",
      "metadata": {
        "id": "WQSumTU7JGj2",
        "colab": {
          "base_uri": "https://localhost:8080/",
          "height": 51
        },
        "outputId": "3d6dcb93-fc6f-40e7-de94-95187e4b6e25"
      },
      "source": [
        "from sklearn.metrics import confusion_matrix\n",
        "targetclass_predict = classifier_entropy.predict(features_test)\n",
        "confusion = confusion_matrix(targetclass_test, targetclass_predict)\n",
        "confusion"
      ],
      "execution_count": null,
      "outputs": [
        {
          "output_type": "execute_result",
          "data": {
            "text/plain": [
              "array([[ 0, 14],\n",
              "       [ 0, 23]])"
            ]
          },
          "metadata": {
            "tags": []
          },
          "execution_count": 10
        }
      ]
    },
    {
      "cell_type": "code",
      "metadata": {
        "id": "EyfkIcnPE7FG",
        "colab": {
          "base_uri": "https://localhost:8080/",
          "height": 145
        },
        "outputId": "d01c05a5-9bea-4460-883c-57d0f35fd961"
      },
      "source": [
        "print(\"Tomorrow's change:\", classifier_entropy.predict(lastknown))\n",
        "print(\"Probability of change\", classifier_entropy.predict_proba(lastknown))\n",
        "lastknown"
      ],
      "execution_count": null,
      "outputs": [
        {
          "output_type": "stream",
          "text": [
            "Tomorrow's change: [1]\n",
            "Probability of change [[0.35932921 0.64067079]]\n"
          ],
          "name": "stdout"
        },
        {
          "output_type": "execute_result",
          "data": {
            "text/html": [
              "<div>\n",
              "<style scoped>\n",
              "    .dataframe tbody tr th:only-of-type {\n",
              "        vertical-align: middle;\n",
              "    }\n",
              "\n",
              "    .dataframe tbody tr th {\n",
              "        vertical-align: top;\n",
              "    }\n",
              "\n",
              "    .dataframe thead th {\n",
              "        text-align: right;\n",
              "    }\n",
              "</style>\n",
              "<table border=\"1\" class=\"dataframe\">\n",
              "  <thead>\n",
              "    <tr style=\"text-align: right;\">\n",
              "      <th></th>\n",
              "      <th>market</th>\n",
              "      <th>vix</th>\n",
              "      <th>dxy</th>\n",
              "      <th>junk</th>\n",
              "    </tr>\n",
              "    <tr>\n",
              "      <th>Date</th>\n",
              "      <th></th>\n",
              "      <th></th>\n",
              "      <th></th>\n",
              "      <th></th>\n",
              "    </tr>\n",
              "  </thead>\n",
              "  <tbody>\n",
              "    <tr>\n",
              "      <th>2020-08-03</th>\n",
              "      <td>0.695216</td>\n",
              "      <td>-0.179998</td>\n",
              "      <td>0.0</td>\n",
              "      <td>0.014206</td>\n",
              "    </tr>\n",
              "  </tbody>\n",
              "</table>\n",
              "</div>"
            ],
            "text/plain": [
              "              market       vix  dxy      junk\n",
              "Date                                         \n",
              "2020-08-03  0.695216 -0.179998  0.0  0.014206"
            ]
          },
          "metadata": {
            "tags": []
          },
          "execution_count": 11
        }
      ]
    },
    {
      "cell_type": "code",
      "metadata": {
        "id": "k4JNKl_ccHGu",
        "colab": {
          "base_uri": "https://localhost:8080/",
          "height": 68
        },
        "outputId": "ab1d2776-3f6b-4b80-bb65-602a09490003"
      },
      "source": [
        "#Inferring the importance of each feature\n",
        "print(features.columns)\n",
        "print(classifier.feature_importances_)\n",
        "print(classifier_entropy.feature_importances_)"
      ],
      "execution_count": null,
      "outputs": [
        {
          "output_type": "stream",
          "text": [
            "Index(['market', 'vix', 'dxy', 'junk'], dtype='object')\n",
            "[0.20283906 0.24788042 0.30785675 0.24142377]\n",
            "[0.21991413 0.29285605 0.31442419 0.17280562]\n"
          ],
          "name": "stdout"
        }
      ]
    },
    {
      "cell_type": "markdown",
      "metadata": {
        "id": "pO56pgNQdpzU"
      },
      "source": [
        "#Random Forest regression for overnight value changes"
      ]
    },
    {
      "cell_type": "code",
      "metadata": {
        "id": "itqncjwPGpr4",
        "colab": {
          "base_uri": "https://localhost:8080/",
          "height": 235
        },
        "outputId": "daf410d5-6d48-4e79-d3e2-4a56dd769dba"
      },
      "source": [
        "#Get rid of direction column for regressors\n",
        "targetvalue = target.drop(axis=1, columns='direction')\n",
        "targetvalue = targetvalue[1:] #Removes the first row of labels since we are correlating today's features with tomorrow's opening values\n",
        "targetvalue.head()                                                                        \n"
      ],
      "execution_count": null,
      "outputs": [
        {
          "output_type": "execute_result",
          "data": {
            "text/html": [
              "<div>\n",
              "<style scoped>\n",
              "    .dataframe tbody tr th:only-of-type {\n",
              "        vertical-align: middle;\n",
              "    }\n",
              "\n",
              "    .dataframe tbody tr th {\n",
              "        vertical-align: top;\n",
              "    }\n",
              "\n",
              "    .dataframe thead th {\n",
              "        text-align: right;\n",
              "    }\n",
              "</style>\n",
              "<table border=\"1\" class=\"dataframe\">\n",
              "  <thead>\n",
              "    <tr style=\"text-align: right;\">\n",
              "      <th></th>\n",
              "      <th>return</th>\n",
              "    </tr>\n",
              "    <tr>\n",
              "      <th>Date</th>\n",
              "      <th></th>\n",
              "    </tr>\n",
              "  </thead>\n",
              "  <tbody>\n",
              "    <tr>\n",
              "      <th>2020-01-06</th>\n",
              "      <td>-0.007214</td>\n",
              "    </tr>\n",
              "    <tr>\n",
              "      <th>2020-01-07</th>\n",
              "      <td>0.005221</td>\n",
              "    </tr>\n",
              "    <tr>\n",
              "      <th>2020-01-08</th>\n",
              "      <td>0.000944</td>\n",
              "    </tr>\n",
              "    <tr>\n",
              "      <th>2020-01-09</th>\n",
              "      <td>0.018513</td>\n",
              "    </tr>\n",
              "    <tr>\n",
              "      <th>2020-01-10</th>\n",
              "      <td>0.008235</td>\n",
              "    </tr>\n",
              "  </tbody>\n",
              "</table>\n",
              "</div>"
            ],
            "text/plain": [
              "              return\n",
              "Date                \n",
              "2020-01-06 -0.007214\n",
              "2020-01-07  0.005221\n",
              "2020-01-08  0.000944\n",
              "2020-01-09  0.018513\n",
              "2020-01-10  0.008235"
            ]
          },
          "metadata": {
            "tags": []
          },
          "execution_count": 13
        }
      ]
    },
    {
      "cell_type": "code",
      "metadata": {
        "id": "xW2yP4i1IDTl",
        "colab": {
          "base_uri": "https://localhost:8080/",
          "height": 85
        },
        "outputId": "b4760f8e-94b2-496d-d9b7-7485079c1626"
      },
      "source": [
        "from sklearn.ensemble import RandomForestRegressor\n",
        "from sklearn.model_selection import train_test_split\n",
        "\n",
        "regressor = RandomForestRegressor(random_state=1, oob_score=True) #default performance metric is mean square error\n",
        "targetvalue = np.ravel(targetvalue) #Need to covert column vector into a 1-d array\n",
        "features_train, features_test, targetvalue_train, targetvalue_test = train_test_split(features, targetvalue, test_size = 0.25, random_state=0)\n",
        "regressor.fit(features_train, targetvalue_train)\n",
        "print(\"Training score:\", regressor.score(features_train, targetvalue_train))\n",
        "print(\"Out-of-bag score:\", regressor.oob_score_)\n",
        "print(\"Testing score:\", regressor.score(features_test, targetvalue_test))\n",
        "print(\"Tomorrow's value change:\", regressor.predict(lastknown))"
      ],
      "execution_count": null,
      "outputs": [
        {
          "output_type": "stream",
          "text": [
            "Training score: 0.8455460297724262\n",
            "Out-of-bag score: -0.32901912043396275\n",
            "Testing score: -0.041938586284235635\n",
            "Tomorrow's value change: [0.00259391]\n"
          ],
          "name": "stdout"
        }
      ]
    },
    {
      "cell_type": "code",
      "metadata": {
        "id": "G7vkAGgDKALy",
        "colab": {
          "base_uri": "https://localhost:8080/",
          "height": 85
        },
        "outputId": "90b54042-eb3d-4271-f81b-d30d7aaccf04"
      },
      "source": [
        "regressor_mae = RandomForestRegressor(criterion=\"mae\", random_state=1, oob_score=True, max_depth=10, n_estimators=500)\n",
        "features_train, features_test, targetvalue_train, targetvalue_test = train_test_split(features, targetvalue, test_size = 0.25, random_state=0)\n",
        "regressor_mae.fit(features_train, targetvalue_train)\n",
        "print(\"Training score:\", regressor_mae.score(features_train, targetvalue_train))\n",
        "print(\"Out-of-bag score:\", regressor_mae.oob_score_)\n",
        "print(\"Testing score:\", regressor_mae.score(features_test, targetvalue_test))\n",
        "print(\"Tomorrow's value change:\", regressor_mae.predict(lastknown))"
      ],
      "execution_count": null,
      "outputs": [
        {
          "output_type": "stream",
          "text": [
            "Training score: 0.7986063918839404\n",
            "Out-of-bag score: -0.21310314083538295\n",
            "Testing score: 0.023638115387403458\n",
            "Tomorrow's value change: [0.0033212]\n"
          ],
          "name": "stdout"
        }
      ]
    },
    {
      "cell_type": "code",
      "metadata": {
        "id": "YVK-hcRAhyBh",
        "colab": {
          "base_uri": "https://localhost:8080/",
          "height": 68
        },
        "outputId": "5a69c231-84bd-4358-bc4f-4acdc70cb57e"
      },
      "source": [
        "#Inferring the importance of each feature\n",
        "print(features.columns)\n",
        "print(regressor.feature_importances_)\n",
        "print(regressor_mae.feature_importances_)"
      ],
      "execution_count": null,
      "outputs": [
        {
          "output_type": "stream",
          "text": [
            "Index(['market', 'vix', 'dxy', 'junk'], dtype='object')\n",
            "[0.24583685 0.36303334 0.27569427 0.11543553]\n",
            "[0.27640709 0.2583581  0.29494468 0.17029013]\n"
          ],
          "name": "stdout"
        }
      ]
    }
  ]
}