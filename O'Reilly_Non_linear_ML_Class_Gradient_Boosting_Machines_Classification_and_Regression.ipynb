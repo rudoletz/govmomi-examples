{
  "nbformat": 4,
  "nbformat_minor": 0,
  "metadata": {
    "colab": {
      "name": "O'Reilly Non-linear ML Class- Gradient Boosting Machines Classification and Regression",
      "provenance": [],
      "include_colab_link": true
    },
    "kernelspec": {
      "name": "python3",
      "display_name": "Python 3"
    }
  },
  "cells": [
    {
      "cell_type": "markdown",
      "metadata": {
        "id": "view-in-github",
        "colab_type": "text"
      },
      "source": [
        "<a href=\"https://colab.research.google.com/github/rudoletz/govmomi-examples/blob/master/O'Reilly_Non_linear_ML_Class_Gradient_Boosting_Machines_Classification_and_Regression.ipynb\" target=\"_parent\"><img src=\"https://colab.research.google.com/assets/colab-badge.svg\" alt=\"Open In Colab\"/></a>"
      ]
    },
    {
      "cell_type": "markdown",
      "metadata": {
        "id": "u0pr5N-DfGQe"
      },
      "source": [
        "# Import Market Data"
      ]
    },
    {
      "cell_type": "code",
      "metadata": {
        "id": "pxgRHy12PJfK"
      },
      "source": [
        "#Import Python Libraries\n",
        "import numpy as np\n",
        "import pandas as pd\n",
        "from datetime import datetime\n",
        "\n",
        "import pandas_datareader.data as pdr\n",
        "import fix_yahoo_finance as yf\n",
        "yf.pdr_override()\n",
        "\n",
        "import matplotlib.pyplot as plt\n",
        "plt.style.use('seaborn')"
      ],
      "execution_count": null,
      "outputs": []
    },
    {
      "cell_type": "code",
      "metadata": {
        "id": "eGcDaP4vQjuX"
      },
      "source": [
        "#Import data\n",
        "start = datetime(2020, 1, 1)\n",
        "end = datetime(2020, 8, 4)\n",
        "\n",
        "stock = pdr.get_data_yahoo('AAPL', start, end) #Apple Inc. stock\n",
        "market = pdr.get_data_yahoo('SPY', start, end) #S&P 500 index\n",
        "vix = pdr.get_data_yahoo('^VIX', start, end)   #Volatility index\n",
        "dxy = pdr.get_data_yahoo('UUP', start, end)    #Dollar index\n",
        "junk = pdr.get_data_yahoo('JNK', start, end)   #Junk bond index"
      ],
      "execution_count": null,
      "outputs": []
    },
    {
      "cell_type": "code",
      "metadata": {
        "id": "EX2JBnMfXHTi",
        "colab": {
          "base_uri": "https://localhost:8080/",
          "height": 234
        },
        "outputId": "9eb86d9c-0862-4f9c-9a4a-cc413652fc25"
      },
      "source": [
        "#Create target dataframe\n",
        "target = pd.DataFrame()\n",
        "#Use adjusted closing prices instead of closing prices to adjust for corporate actions such as dividends, splits and mergers\n",
        "target['return'] = (stock['Open']-stock['Adj Close'].shift(1))/stock['Adj Close'].shift(1) #Returns based on buying on the close the day before and selling on the open the day after\n",
        "target = target.dropna() #get rid of the NaNs\n",
        "target['direction'] = np.where(target['return'] > 0, 1, -1) #Overnight direction of the stock\n",
        "target.head()"
      ],
      "execution_count": null,
      "outputs": [
        {
          "output_type": "execute_result",
          "data": {
            "text/html": [
              "<div>\n",
              "<style scoped>\n",
              "    .dataframe tbody tr th:only-of-type {\n",
              "        vertical-align: middle;\n",
              "    }\n",
              "\n",
              "    .dataframe tbody tr th {\n",
              "        vertical-align: top;\n",
              "    }\n",
              "\n",
              "    .dataframe thead th {\n",
              "        text-align: right;\n",
              "    }\n",
              "</style>\n",
              "<table border=\"1\" class=\"dataframe\">\n",
              "  <thead>\n",
              "    <tr style=\"text-align: right;\">\n",
              "      <th></th>\n",
              "      <th>return</th>\n",
              "      <th>direction</th>\n",
              "    </tr>\n",
              "    <tr>\n",
              "      <th>Date</th>\n",
              "      <th></th>\n",
              "      <th></th>\n",
              "    </tr>\n",
              "  </thead>\n",
              "  <tbody>\n",
              "    <tr>\n",
              "      <th>2020-01-03</th>\n",
              "      <td>-0.005622</td>\n",
              "      <td>-1</td>\n",
              "    </tr>\n",
              "    <tr>\n",
              "      <th>2020-01-06</th>\n",
              "      <td>-0.007214</td>\n",
              "      <td>-1</td>\n",
              "    </tr>\n",
              "    <tr>\n",
              "      <th>2020-01-07</th>\n",
              "      <td>0.005221</td>\n",
              "      <td>1</td>\n",
              "    </tr>\n",
              "    <tr>\n",
              "      <th>2020-01-08</th>\n",
              "      <td>0.000944</td>\n",
              "      <td>1</td>\n",
              "    </tr>\n",
              "    <tr>\n",
              "      <th>2020-01-09</th>\n",
              "      <td>0.018513</td>\n",
              "      <td>1</td>\n",
              "    </tr>\n",
              "  </tbody>\n",
              "</table>\n",
              "</div>"
            ],
            "text/plain": [
              "              return  direction\n",
              "Date                           \n",
              "2020-01-03 -0.005622         -1\n",
              "2020-01-06 -0.007214         -1\n",
              "2020-01-07  0.005221          1\n",
              "2020-01-08  0.000944          1\n",
              "2020-01-09  0.018513          1"
            ]
          },
          "metadata": {
            "tags": []
          },
          "execution_count": 3
        }
      ]
    },
    {
      "cell_type": "code",
      "metadata": {
        "id": "4PUC0AmibGxp",
        "colab": {
          "base_uri": "https://localhost:8080/",
          "height": 234
        },
        "outputId": "a8fd1f9f-11d8-4159-c686-60dea7fb0a2c"
      },
      "source": [
        "#Create features dataframe\n",
        "features = pd.DataFrame()\n",
        "features['market'] = market['Adj Close'].pct_change(1)*100\n",
        "#VIX is volatility index and is measured in percentage terms\n",
        "features['vix'] = vix['Adj Close'].diff()\n",
        "features['dxy'] = dxy['Adj Close'].pct_change(1)*100\n",
        "features['junk'] = junk['Adj Close'].pct_change(1)*100\n",
        "features = features.dropna()\n",
        "features.tail()"
      ],
      "execution_count": null,
      "outputs": [
        {
          "output_type": "execute_result",
          "data": {
            "text/html": [
              "<div>\n",
              "<style scoped>\n",
              "    .dataframe tbody tr th:only-of-type {\n",
              "        vertical-align: middle;\n",
              "    }\n",
              "\n",
              "    .dataframe tbody tr th {\n",
              "        vertical-align: top;\n",
              "    }\n",
              "\n",
              "    .dataframe thead th {\n",
              "        text-align: right;\n",
              "    }\n",
              "</style>\n",
              "<table border=\"1\" class=\"dataframe\">\n",
              "  <thead>\n",
              "    <tr style=\"text-align: right;\">\n",
              "      <th></th>\n",
              "      <th>market</th>\n",
              "      <th>vix</th>\n",
              "      <th>dxy</th>\n",
              "      <th>junk</th>\n",
              "    </tr>\n",
              "    <tr>\n",
              "      <th>Date</th>\n",
              "      <th></th>\n",
              "      <th></th>\n",
              "      <th></th>\n",
              "      <th></th>\n",
              "    </tr>\n",
              "  </thead>\n",
              "  <tbody>\n",
              "    <tr>\n",
              "      <th>2020-07-28</th>\n",
              "      <td>-0.634239</td>\n",
              "      <td>0.700001</td>\n",
              "      <td>0.158044</td>\n",
              "      <td>-0.313307</td>\n",
              "    </tr>\n",
              "    <tr>\n",
              "      <th>2020-07-29</th>\n",
              "      <td>1.229873</td>\n",
              "      <td>-1.340001</td>\n",
              "      <td>-0.473373</td>\n",
              "      <td>0.599996</td>\n",
              "    </tr>\n",
              "    <tr>\n",
              "      <th>2020-07-30</th>\n",
              "      <td>-0.356793</td>\n",
              "      <td>0.660000</td>\n",
              "      <td>-0.396358</td>\n",
              "      <td>0.302950</td>\n",
              "    </tr>\n",
              "    <tr>\n",
              "      <th>2020-07-31</th>\n",
              "      <td>0.790220</td>\n",
              "      <td>-0.300001</td>\n",
              "      <td>0.596904</td>\n",
              "      <td>0.141572</td>\n",
              "    </tr>\n",
              "    <tr>\n",
              "      <th>2020-08-03</th>\n",
              "      <td>0.695216</td>\n",
              "      <td>-0.179998</td>\n",
              "      <td>0.000000</td>\n",
              "      <td>0.014206</td>\n",
              "    </tr>\n",
              "  </tbody>\n",
              "</table>\n",
              "</div>"
            ],
            "text/plain": [
              "              market       vix       dxy      junk\n",
              "Date                                              \n",
              "2020-07-28 -0.634239  0.700001  0.158044 -0.313307\n",
              "2020-07-29  1.229873 -1.340001 -0.473373  0.599996\n",
              "2020-07-30 -0.356793  0.660000 -0.396358  0.302950\n",
              "2020-07-31  0.790220 -0.300001  0.596904  0.141572\n",
              "2020-08-03  0.695216 -0.179998  0.000000  0.014206"
            ]
          },
          "metadata": {
            "tags": []
          },
          "execution_count": 4
        }
      ]
    },
    {
      "cell_type": "code",
      "metadata": {
        "id": "XKGxoOWX-uBp",
        "colab": {
          "base_uri": "https://localhost:8080/",
          "height": 234
        },
        "outputId": "4fdee371-194a-46ec-aa11-0013909e2c44"
      },
      "source": [
        "lastknown = features[-1:] #Values of features from the last trading session\n",
        "features = features[:-1] #Subtracts last row from the features matrix so that it aligns with labels vector\n",
        "features.tail()"
      ],
      "execution_count": null,
      "outputs": [
        {
          "output_type": "execute_result",
          "data": {
            "text/html": [
              "<div>\n",
              "<style scoped>\n",
              "    .dataframe tbody tr th:only-of-type {\n",
              "        vertical-align: middle;\n",
              "    }\n",
              "\n",
              "    .dataframe tbody tr th {\n",
              "        vertical-align: top;\n",
              "    }\n",
              "\n",
              "    .dataframe thead th {\n",
              "        text-align: right;\n",
              "    }\n",
              "</style>\n",
              "<table border=\"1\" class=\"dataframe\">\n",
              "  <thead>\n",
              "    <tr style=\"text-align: right;\">\n",
              "      <th></th>\n",
              "      <th>market</th>\n",
              "      <th>vix</th>\n",
              "      <th>dxy</th>\n",
              "      <th>junk</th>\n",
              "    </tr>\n",
              "    <tr>\n",
              "      <th>Date</th>\n",
              "      <th></th>\n",
              "      <th></th>\n",
              "      <th></th>\n",
              "      <th></th>\n",
              "    </tr>\n",
              "  </thead>\n",
              "  <tbody>\n",
              "    <tr>\n",
              "      <th>2020-07-27</th>\n",
              "      <td>0.729243</td>\n",
              "      <td>-1.100000</td>\n",
              "      <td>-0.745102</td>\n",
              "      <td>0.257001</td>\n",
              "    </tr>\n",
              "    <tr>\n",
              "      <th>2020-07-28</th>\n",
              "      <td>-0.634239</td>\n",
              "      <td>0.700001</td>\n",
              "      <td>0.158044</td>\n",
              "      <td>-0.313307</td>\n",
              "    </tr>\n",
              "    <tr>\n",
              "      <th>2020-07-29</th>\n",
              "      <td>1.229873</td>\n",
              "      <td>-1.340001</td>\n",
              "      <td>-0.473373</td>\n",
              "      <td>0.599996</td>\n",
              "    </tr>\n",
              "    <tr>\n",
              "      <th>2020-07-30</th>\n",
              "      <td>-0.356793</td>\n",
              "      <td>0.660000</td>\n",
              "      <td>-0.396358</td>\n",
              "      <td>0.302950</td>\n",
              "    </tr>\n",
              "    <tr>\n",
              "      <th>2020-07-31</th>\n",
              "      <td>0.790220</td>\n",
              "      <td>-0.300001</td>\n",
              "      <td>0.596904</td>\n",
              "      <td>0.141572</td>\n",
              "    </tr>\n",
              "  </tbody>\n",
              "</table>\n",
              "</div>"
            ],
            "text/plain": [
              "              market       vix       dxy      junk\n",
              "Date                                              \n",
              "2020-07-27  0.729243 -1.100000 -0.745102  0.257001\n",
              "2020-07-28 -0.634239  0.700001  0.158044 -0.313307\n",
              "2020-07-29  1.229873 -1.340001 -0.473373  0.599996\n",
              "2020-07-30 -0.356793  0.660000 -0.396358  0.302950\n",
              "2020-07-31  0.790220 -0.300001  0.596904  0.141572"
            ]
          },
          "metadata": {
            "tags": []
          },
          "execution_count": 5
        }
      ]
    },
    {
      "cell_type": "markdown",
      "metadata": {
        "id": "nd41ArfsfQ3G"
      },
      "source": [
        "#Gradient boosting classifier for overnight direction"
      ]
    },
    {
      "cell_type": "code",
      "metadata": {
        "id": "3eMzdjb7nOt7",
        "colab": {
          "base_uri": "https://localhost:8080/",
          "height": 234
        },
        "outputId": "d0e25cc6-472f-44a1-c1c6-bebcda51c736"
      },
      "source": [
        "#Get rid of return column for classifiers\n",
        "targetclass = target.drop(axis=1, columns='return')\n",
        "targetclass = targetclass[1:] #Removes the first row of labels since we are correlating today's features with tomorrow's opening values\n",
        "targetclass.head()                                                                        "
      ],
      "execution_count": null,
      "outputs": [
        {
          "output_type": "execute_result",
          "data": {
            "text/html": [
              "<div>\n",
              "<style scoped>\n",
              "    .dataframe tbody tr th:only-of-type {\n",
              "        vertical-align: middle;\n",
              "    }\n",
              "\n",
              "    .dataframe tbody tr th {\n",
              "        vertical-align: top;\n",
              "    }\n",
              "\n",
              "    .dataframe thead th {\n",
              "        text-align: right;\n",
              "    }\n",
              "</style>\n",
              "<table border=\"1\" class=\"dataframe\">\n",
              "  <thead>\n",
              "    <tr style=\"text-align: right;\">\n",
              "      <th></th>\n",
              "      <th>direction</th>\n",
              "    </tr>\n",
              "    <tr>\n",
              "      <th>Date</th>\n",
              "      <th></th>\n",
              "    </tr>\n",
              "  </thead>\n",
              "  <tbody>\n",
              "    <tr>\n",
              "      <th>2020-01-06</th>\n",
              "      <td>-1</td>\n",
              "    </tr>\n",
              "    <tr>\n",
              "      <th>2020-01-07</th>\n",
              "      <td>1</td>\n",
              "    </tr>\n",
              "    <tr>\n",
              "      <th>2020-01-08</th>\n",
              "      <td>1</td>\n",
              "    </tr>\n",
              "    <tr>\n",
              "      <th>2020-01-09</th>\n",
              "      <td>1</td>\n",
              "    </tr>\n",
              "    <tr>\n",
              "      <th>2020-01-10</th>\n",
              "      <td>1</td>\n",
              "    </tr>\n",
              "  </tbody>\n",
              "</table>\n",
              "</div>"
            ],
            "text/plain": [
              "            direction\n",
              "Date                 \n",
              "2020-01-06         -1\n",
              "2020-01-07          1\n",
              "2020-01-08          1\n",
              "2020-01-09          1\n",
              "2020-01-10          1"
            ]
          },
          "metadata": {
            "tags": []
          },
          "execution_count": 6
        }
      ]
    },
    {
      "cell_type": "code",
      "metadata": {
        "id": "94UteHjeoSeG",
        "colab": {
          "base_uri": "https://localhost:8080/",
          "height": 51
        },
        "outputId": "1c512a51-519e-4505-b313-ee91289e7897"
      },
      "source": [
        "#Train and test classifier using Gini impurity performance metric\n",
        "from sklearn.ensemble import GradientBoostingClassifier\n",
        "from sklearn.model_selection import train_test_split\n",
        "\n",
        "classifier = GradientBoostingClassifier(random_state=1, learning_rate=0.06, max_depth=3)\n",
        "targetclass = np.ravel(targetclass) \n",
        "features_train, features_test, targetclass_train, targetclass_test = train_test_split(features, targetclass, test_size = 0.25, random_state=0)\n",
        "classifier.fit(features_train, targetclass_train)\n",
        "print(\"Training score:\", classifier.score(features_train, targetclass_train))\n",
        "print(\"Testing score:\", classifier.score(features_test, targetclass_test))"
      ],
      "execution_count": null,
      "outputs": [
        {
          "output_type": "stream",
          "text": [
            "Training score: 0.981651376146789\n",
            "Testing score: 0.6486486486486487\n"
          ],
          "name": "stdout"
        }
      ]
    },
    {
      "cell_type": "code",
      "metadata": {
        "id": "EyfkIcnPE7FG",
        "colab": {
          "base_uri": "https://localhost:8080/",
          "height": 144
        },
        "outputId": "cce45dcf-4add-4a00-d58c-1fbc40a9a4d9"
      },
      "source": [
        "print(\"Tomorrow's change:\", classifier.predict(lastknown))\n",
        "print(\"Probability of change\", classifier.predict_proba(lastknown))\n",
        "lastknown"
      ],
      "execution_count": null,
      "outputs": [
        {
          "output_type": "stream",
          "text": [
            "Tomorrow's change: [1]\n",
            "Probability of change [[0.17930949 0.82069051]]\n"
          ],
          "name": "stdout"
        },
        {
          "output_type": "execute_result",
          "data": {
            "text/html": [
              "<div>\n",
              "<style scoped>\n",
              "    .dataframe tbody tr th:only-of-type {\n",
              "        vertical-align: middle;\n",
              "    }\n",
              "\n",
              "    .dataframe tbody tr th {\n",
              "        vertical-align: top;\n",
              "    }\n",
              "\n",
              "    .dataframe thead th {\n",
              "        text-align: right;\n",
              "    }\n",
              "</style>\n",
              "<table border=\"1\" class=\"dataframe\">\n",
              "  <thead>\n",
              "    <tr style=\"text-align: right;\">\n",
              "      <th></th>\n",
              "      <th>market</th>\n",
              "      <th>vix</th>\n",
              "      <th>dxy</th>\n",
              "      <th>junk</th>\n",
              "    </tr>\n",
              "    <tr>\n",
              "      <th>Date</th>\n",
              "      <th></th>\n",
              "      <th></th>\n",
              "      <th></th>\n",
              "      <th></th>\n",
              "    </tr>\n",
              "  </thead>\n",
              "  <tbody>\n",
              "    <tr>\n",
              "      <th>2020-08-03</th>\n",
              "      <td>0.695216</td>\n",
              "      <td>-0.179998</td>\n",
              "      <td>0.0</td>\n",
              "      <td>0.014206</td>\n",
              "    </tr>\n",
              "  </tbody>\n",
              "</table>\n",
              "</div>"
            ],
            "text/plain": [
              "              market       vix  dxy      junk\n",
              "Date                                         \n",
              "2020-08-03  0.695216 -0.179998  0.0  0.014206"
            ]
          },
          "metadata": {
            "tags": []
          },
          "execution_count": 13
        }
      ]
    },
    {
      "cell_type": "code",
      "metadata": {
        "id": "k4JNKl_ccHGu",
        "colab": {
          "base_uri": "https://localhost:8080/",
          "height": 51
        },
        "outputId": "a8f4bae9-f707-4cb9-d8d1-2030090a4d1d"
      },
      "source": [
        "#Inferring the importance of each feature\n",
        "print(features.columns)\n",
        "print(classifier.feature_importances_)"
      ],
      "execution_count": null,
      "outputs": [
        {
          "output_type": "stream",
          "text": [
            "Index(['market', 'vix', 'dxy', 'junk'], dtype='object')\n",
            "[0.18207493 0.17769463 0.38729637 0.25293408]\n"
          ],
          "name": "stdout"
        }
      ]
    },
    {
      "cell_type": "code",
      "metadata": {
        "id": "WQSumTU7JGj2",
        "colab": {
          "base_uri": "https://localhost:8080/",
          "height": 51
        },
        "outputId": "25436216-0faa-4997-a91a-03b8c69cd727"
      },
      "source": [
        "from sklearn.metrics import confusion_matrix\n",
        "targetclass_predict = classifier.predict(features_test)\n",
        "confusion = confusion_matrix(targetclass_test, targetclass_predict)\n",
        "confusion"
      ],
      "execution_count": null,
      "outputs": [
        {
          "output_type": "execute_result",
          "data": {
            "text/plain": [
              "array([[ 7,  7],\n",
              "       [ 6, 17]])"
            ]
          },
          "metadata": {
            "tags": []
          },
          "execution_count": 15
        }
      ]
    },
    {
      "cell_type": "markdown",
      "metadata": {
        "id": "pO56pgNQdpzU"
      },
      "source": [
        "#Gradient boosting regressor for overnight value changes"
      ]
    },
    {
      "cell_type": "code",
      "metadata": {
        "id": "itqncjwPGpr4",
        "colab": {
          "base_uri": "https://localhost:8080/",
          "height": 234
        },
        "outputId": "6aa0b807-da48-40d7-bc95-a7e96287fd1a"
      },
      "source": [
        "#Get rid of direction column for regressors\n",
        "targetvalue = target.drop(axis=1, columns='direction')\n",
        "targetvalue = targetvalue[1:] #Removes the first row of labels since we are correlating today's features with tomorrow's opening values\n",
        "targetvalue.head()                                                                        \n"
      ],
      "execution_count": null,
      "outputs": [
        {
          "output_type": "execute_result",
          "data": {
            "text/html": [
              "<div>\n",
              "<style scoped>\n",
              "    .dataframe tbody tr th:only-of-type {\n",
              "        vertical-align: middle;\n",
              "    }\n",
              "\n",
              "    .dataframe tbody tr th {\n",
              "        vertical-align: top;\n",
              "    }\n",
              "\n",
              "    .dataframe thead th {\n",
              "        text-align: right;\n",
              "    }\n",
              "</style>\n",
              "<table border=\"1\" class=\"dataframe\">\n",
              "  <thead>\n",
              "    <tr style=\"text-align: right;\">\n",
              "      <th></th>\n",
              "      <th>return</th>\n",
              "    </tr>\n",
              "    <tr>\n",
              "      <th>Date</th>\n",
              "      <th></th>\n",
              "    </tr>\n",
              "  </thead>\n",
              "  <tbody>\n",
              "    <tr>\n",
              "      <th>2020-01-06</th>\n",
              "      <td>-0.007214</td>\n",
              "    </tr>\n",
              "    <tr>\n",
              "      <th>2020-01-07</th>\n",
              "      <td>0.005221</td>\n",
              "    </tr>\n",
              "    <tr>\n",
              "      <th>2020-01-08</th>\n",
              "      <td>0.000944</td>\n",
              "    </tr>\n",
              "    <tr>\n",
              "      <th>2020-01-09</th>\n",
              "      <td>0.018513</td>\n",
              "    </tr>\n",
              "    <tr>\n",
              "      <th>2020-01-10</th>\n",
              "      <td>0.008235</td>\n",
              "    </tr>\n",
              "  </tbody>\n",
              "</table>\n",
              "</div>"
            ],
            "text/plain": [
              "              return\n",
              "Date                \n",
              "2020-01-06 -0.007214\n",
              "2020-01-07  0.005221\n",
              "2020-01-08  0.000944\n",
              "2020-01-09  0.018513\n",
              "2020-01-10  0.008235"
            ]
          },
          "metadata": {
            "tags": []
          },
          "execution_count": 16
        }
      ]
    },
    {
      "cell_type": "code",
      "metadata": {
        "id": "xW2yP4i1IDTl",
        "colab": {
          "base_uri": "https://localhost:8080/",
          "height": 68
        },
        "outputId": "dc0610d4-4918-425c-f422-83e31c039f81"
      },
      "source": [
        "from sklearn.ensemble import GradientBoostingRegressor\n",
        "from sklearn.model_selection import train_test_split\n",
        "\n",
        "regressor = GradientBoostingRegressor(random_state=1)\n",
        "targetvalue = np.ravel(targetvalue) #Need to covert column vector into a 1-d array\n",
        "features_train, features_test, targetvalue_train, targetvalue_test = train_test_split(features, targetvalue, test_size = 0.25, random_state=0)\n",
        "regressor.fit(features_train, targetvalue_train)\n",
        "print(\"Training score:\", regressor.score(features_train, targetvalue_train))\n",
        "print(\"Testing score:\", regressor.score(features_test, targetvalue_test))\n",
        "print(\"Tomorrow's value change:\", regressor.predict(lastknown))"
      ],
      "execution_count": null,
      "outputs": [
        {
          "output_type": "stream",
          "text": [
            "Training score: 0.9539199341564906\n",
            "Testing score: 0.06507846029720477\n",
            "Tomorrow's value change: [0.00513603]\n"
          ],
          "name": "stdout"
        }
      ]
    },
    {
      "cell_type": "code",
      "metadata": {
        "id": "G7vkAGgDKALy",
        "colab": {
          "base_uri": "https://localhost:8080/",
          "height": 68
        },
        "outputId": "c1caca42-aa40-4179-c14c-c36ea0f978b3"
      },
      "source": [
        "regressor_mae = GradientBoostingRegressor(criterion=\"mae\", random_state=1, learning_rate=0.1, max_depth=5, n_estimators=200, min_samples_split=5, min_samples_leaf=5)\n",
        "features_train, features_test, targetvalue_train, targetvalue_test = train_test_split(features, targetvalue, test_size = 0.25, random_state=1)\n",
        "regressor_mae.fit(features_train, targetvalue_train)\n",
        "print(\"Training score:\", regressor_mae.score(features_train, targetvalue_train))\n",
        "print(\"Testing score:\", regressor_mae.score(features_test, targetvalue_test))\n",
        "print(\"Tomorrow's value change:\", regressor_mae.predict(lastknown))"
      ],
      "execution_count": null,
      "outputs": [
        {
          "output_type": "stream",
          "text": [
            "Training score: 0.7293755326183458\n",
            "Testing score: 0.24468109216042733\n",
            "Tomorrow's value change: [0.00622702]\n"
          ],
          "name": "stdout"
        }
      ]
    },
    {
      "cell_type": "code",
      "metadata": {
        "id": "YVK-hcRAhyBh",
        "colab": {
          "base_uri": "https://localhost:8080/",
          "height": 68
        },
        "outputId": "71dca18f-8056-4bdc-ee3f-48ea67e0414e"
      },
      "source": [
        "#Inferring the importance of each feature\n",
        "print(features.columns)\n",
        "print(regressor.feature_importances_)\n",
        "print(regressor_mae.feature_importances_)"
      ],
      "execution_count": null,
      "outputs": [
        {
          "output_type": "stream",
          "text": [
            "Index(['market', 'vix', 'dxy', 'junk'], dtype='object')\n",
            "[0.20258626 0.38088449 0.3400491  0.07648015]\n",
            "[0.24189089 0.22462572 0.23469939 0.29878399]\n"
          ],
          "name": "stdout"
        }
      ]
    }
  ]
}